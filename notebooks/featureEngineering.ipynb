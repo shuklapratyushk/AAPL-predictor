{
 "cells": [
  {
   "cell_type": "code",
   "execution_count": 5,
   "id": "83830264-636d-43b1-831b-25da8b1b2e76",
   "metadata": {},
   "outputs": [
    {
     "name": "stdout",
     "output_type": "stream",
     "text": [
      "Index(['Price', 'Close', 'High', 'Low', 'Open', 'Volume'], dtype='object')\n"
     ]
    }
   ],
   "source": [
    "import pandas as pd\n",
    "from pathlib import Path\n",
    "\n",
    "ticker = \"AAPL\"\n",
    "raw_path = Path(\"../data/raw\") / f\"{ticker}.csv\"\n",
    "\n",
    "df = pd.read_csv(raw_path)\n",
    "print(df.columns)"
   ]
  },
  {
   "cell_type": "code",
   "execution_count": 7,
   "id": "20105400-5df3-43d9-8090-ecddf8195fb7",
   "metadata": {},
   "outputs": [],
   "source": [
    "numeric_cols = [c for c in [\"Open\",\"High\",\"Low\",\"Close\",\"Adj Close\",\"Volume\"] if c in df.columns]\n",
    "for col in numeric_cols:\n",
    "    df[col] = pd.to_numeric(df[col], errors=\"coerce\")"
   ]
  },
  {
   "cell_type": "code",
   "execution_count": 11,
   "id": "fb790e58-12d4-4607-beb0-4aa16055084c",
   "metadata": {},
   "outputs": [],
   "source": [
    "if \"Date\" in df.columns:\n",
    "    df[\"Date\"] = pd.to_datetime(df[\"Date\"], errors=\"coerce\")\n",
    "    df = df.set_index(\"Date\")"
   ]
  },
  {
   "cell_type": "code",
   "execution_count": 12,
   "id": "bb741683-9cc1-4250-b718-ea834ad1a3ff",
   "metadata": {},
   "outputs": [
    {
     "name": "stdout",
     "output_type": "stream",
     "text": [
      "Price      object\n",
      "Close     float64\n",
      "High      float64\n",
      "Low       float64\n",
      "Open      float64\n",
      "Volume    float64\n",
      "dtype: object\n",
      "        Price      Close       High        Low       Open       Volume\n",
      "0      Ticker        NaN        NaN        NaN        NaN          NaN\n",
      "1        Date        NaN        NaN        NaN        NaN          NaN\n",
      "2  2015-01-02  24.261045  24.729268  23.821670  24.718172  212818400.0\n",
      "3  2015-01-05  23.577574  24.110150  23.391173  24.030263  257142000.0\n",
      "4  2015-01-06  23.579800  23.839430  23.218091  23.641933  263188400.0\n"
     ]
    }
   ],
   "source": [
    "print(df.dtypes)\n",
    "print(df.head())"
   ]
  },
  {
   "cell_type": "code",
   "execution_count": 13,
   "id": "66a22c25-2eaf-49f5-bacd-283e87c5acfe",
   "metadata": {},
   "outputs": [],
   "source": [
    "df[\"SMA_20\"] = df[\"Close\"].rolling(20).mean()\n",
    "df[\"EMA_50\"] = df[\"Close\"].ewm(span=50, adjust=False).mean()\n",
    "df[\"Daily_Return\"] = df[\"Close\"].pct_change()\n",
    "df[\"Lag_1\"] = df[\"Close\"].shift(1)"
   ]
  },
  {
   "cell_type": "code",
   "execution_count": 14,
   "id": "4f4c8e16-18b0-4034-b381-8bc773db9523",
   "metadata": {},
   "outputs": [
    {
     "name": "stdout",
     "output_type": "stream",
     "text": [
      "Saved feature-engineered data to ..\\data\\processed\\AAPL_features.csv\n"
     ]
    }
   ],
   "source": [
    "out_path = Path(\"../data/processed\") / f\"{ticker}_features.csv\"\n",
    "df.to_csv(out_path)\n",
    "print(f\"Saved feature-engineered data to {out_path}\")"
   ]
  },
  {
   "cell_type": "code",
   "execution_count": null,
   "id": "7379f096-7c04-4c4d-8d10-7222a19649e3",
   "metadata": {},
   "outputs": [],
   "source": []
  }
 ],
 "metadata": {
  "kernelspec": {
   "display_name": "Python 3 (ipykernel)",
   "language": "python",
   "name": "python3"
  },
  "language_info": {
   "codemirror_mode": {
    "name": "ipython",
    "version": 3
   },
   "file_extension": ".py",
   "mimetype": "text/x-python",
   "name": "python",
   "nbconvert_exporter": "python",
   "pygments_lexer": "ipython3",
   "version": "3.13.5"
  }
 },
 "nbformat": 4,
 "nbformat_minor": 5
}
